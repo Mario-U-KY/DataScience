{
  "nbformat": 4,
  "nbformat_minor": 0,
  "metadata": {
    "colab": {
      "name": "2_2 Data Preprocessing.ipynb",
      "provenance": [],
      "authorship_tag": "ABX9TyMIKaB6jsnz6AI7Gry+j6XA",
      "include_colab_link": true
    },
    "kernelspec": {
      "name": "python3",
      "display_name": "Python 3"
    },
    "language_info": {
      "name": "python"
    }
  },
  "cells": [
    {
      "cell_type": "markdown",
      "metadata": {
        "id": "view-in-github",
        "colab_type": "text"
      },
      "source": [
        "<a href=\"https://colab.research.google.com/github/Mario-U-KY/DataScience/blob/main/2_2_Data_Preprocessing.ipynb\" target=\"_parent\"><img src=\"https://colab.research.google.com/assets/colab-badge.svg\" alt=\"Open In Colab\"/></a>"
      ]
    },
    {
      "cell_type": "markdown",
      "source": [
        "<h1>2.2 Data Preprocessing</h1>"
      ],
      "metadata": {
        "id": "HBwX2VVGBZqR"
      }
    },
    {
      "cell_type": "markdown",
      "source": [
        "<h2>2.2.1 Reading the Dataset</h2>\n"
      ],
      "metadata": {
        "id": "uONhgr84BjTF"
      }
    },
    {
      "cell_type": "code",
      "source": [
        "import os\n",
        "\n",
        "os.makedirs(os.path.join('..', 'data'), exist_ok = True) #폴더 만들기\n",
        "data_file = os.path.join('..', 'data', 'house_tiny.csv') #파일 만들기\n",
        "with open(data_file, 'w')as f: #w모드로 data_file이라는 변수에 할당하면서 내용 기입\n",
        "  f.write('NumRooms, Alley,Prie\\n')\n",
        "  f.write('NA,Pave,127500\\n')\n",
        "  f.write('2,NA,106000\\n')\n",
        "  f.write('4,NA,178100\\n')\n",
        "  f.write('NA,NA,140000\\n')\n",
        "\n",
        "import pandas as pd\n",
        "\n",
        "data = pd.read_csv(data_file) #할당된 데이터 불러오기\n",
        "print(data)"
      ],
      "metadata": {
        "colab": {
          "base_uri": "https://localhost:8080/"
        },
        "id": "PmDBYrgnBoxf",
        "outputId": "f8df9ddd-2c8e-4aac-f8bc-92e97cac0649"
      },
      "execution_count": 2,
      "outputs": [
        {
          "output_type": "stream",
          "name": "stdout",
          "text": [
            "   NumRooms  Alley    Prie\n",
            "0       NaN   Pave  127500\n",
            "1       2.0    NaN  106000\n",
            "2       4.0    NaN  178100\n",
            "3       NaN    NaN  140000\n"
          ]
        }
      ]
    },
    {
      "cell_type": "markdown",
      "source": [
        "<h2>2.2.2 Handling Missing Data</h2>"
      ],
      "metadata": {
        "id": "Aig5y6b5CTfL"
      }
    },
    {
      "cell_type": "markdown",
      "source": [
        "NaN = missing data, imputation(대치) 혹은 deletion을 통해 값을 변환하거나 제거할 필요가 있다. integer-location based indexing(iloc)를 통해 데이터를 input과 output으로 분리한 뒤, NaN entries를 변환시켜보자"
      ],
      "metadata": {
        "id": "YAZOzWu-CsVs"
      }
    },
    {
      "cell_type": "code",
      "source": [
        "inputs, outputs = data.iloc[:,0:2], data.iloc[:,2]\n",
        "inputs = inputs.fillna(inputs.mean()) # Numrooms column에 있는 NaN값들을 나머지 값의 평균으로 대치한다.\n",
        "print(inputs)"
      ],
      "metadata": {
        "colab": {
          "base_uri": "https://localhost:8080/"
        },
        "id": "ujBZVOwaDNb6",
        "outputId": "4c8cfc02-fac6-4c41-dc8e-3abe6d588632"
      },
      "execution_count": 4,
      "outputs": [
        {
          "output_type": "stream",
          "name": "stdout",
          "text": [
            "   NumRooms  Alley\n",
            "0       3.0   Pave\n",
            "1       2.0    NaN\n",
            "2       4.0    NaN\n",
            "3       3.0    NaN\n"
          ]
        },
        {
          "output_type": "stream",
          "name": "stderr",
          "text": [
            "/usr/local/lib/python3.7/dist-packages/ipykernel_launcher.py:2: FutureWarning: Dropping of nuisance columns in DataFrame reductions (with 'numeric_only=None') is deprecated; in a future version this will raise TypeError.  Select only valid columns before calling the reduction.\n",
            "  \n"
          ]
        }
      ]
    },
    {
      "cell_type": "markdown",
      "source": [
        "alley column은 Pave 이거나 NaN으로 값을 가지므로, 이를 두개의 column 인 Alley_Pave, 그리고 Alley_nan으로 변환 시킨 뒤 참 거짓 유무를 1,0으로 매핑시킨다."
      ],
      "metadata": {
        "id": "x5mgMDwvDVdD"
      }
    },
    {
      "cell_type": "code",
      "source": [
        "inputs = pd.get_dummies(inputs, dummy_na = True)\n",
        "print(inputs)"
      ],
      "metadata": {
        "colab": {
          "base_uri": "https://localhost:8080/"
        },
        "id": "GxX57fTtDz_Z",
        "outputId": "468d4456-093c-4306-b127-ab35b71544ba"
      },
      "execution_count": 5,
      "outputs": [
        {
          "output_type": "stream",
          "name": "stdout",
          "text": [
            "   NumRooms   Alley_Pave   Alley_nan\n",
            "0       3.0            1           0\n",
            "1       2.0            0           1\n",
            "2       4.0            0           1\n",
            "3       3.0            0           1\n"
          ]
        }
      ]
    },
    {
      "cell_type": "markdown",
      "source": [
        "<h2>2.2.3 Conversion to the Tensor Format</h2>"
      ],
      "metadata": {
        "id": "gIjhEeB5D8Tl"
      }
    },
    {
      "cell_type": "code",
      "source": [
        "import torch\n",
        "X, y = torch.tensor(inputs.values), torch.tensor(outputs.values)\n",
        "X, y"
      ],
      "metadata": {
        "colab": {
          "base_uri": "https://localhost:8080/"
        },
        "id": "U2ETC6GtD5aW",
        "outputId": "3c0237a8-2826-4e37-cc5d-249a816daa3e"
      },
      "execution_count": 8,
      "outputs": [
        {
          "output_type": "execute_result",
          "data": {
            "text/plain": [
              "(tensor([[3., 1., 0.],\n",
              "         [2., 0., 1.],\n",
              "         [4., 0., 1.],\n",
              "         [3., 0., 1.]], dtype=torch.float64),\n",
              " tensor([127500, 106000, 178100, 140000]))"
            ]
          },
          "metadata": {},
          "execution_count": 8
        }
      ]
    },
    {
      "cell_type": "code",
      "source": [
        ""
      ],
      "metadata": {
        "id": "L5ogPqP-ENDA"
      },
      "execution_count": null,
      "outputs": []
    }
  ]
}