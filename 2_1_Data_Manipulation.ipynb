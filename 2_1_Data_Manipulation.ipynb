{
  "nbformat": 4,
  "nbformat_minor": 0,
  "metadata": {
    "colab": {
      "name": "2_1 Data Manipulation.ipynb",
      "provenance": [],
      "authorship_tag": "ABX9TyMp25q/7PduMYoTr6562Igt",
      "include_colab_link": true
    },
    "kernelspec": {
      "name": "python3",
      "display_name": "Python 3"
    },
    "language_info": {
      "name": "python"
    },
    "gpuClass": "standard"
  },
  "cells": [
    {
      "cell_type": "markdown",
      "metadata": {
        "id": "view-in-github",
        "colab_type": "text"
      },
      "source": [
        "<a href=\"https://colab.research.google.com/github/Mario-U-KY/DataScience/blob/main/2_1_Data_Manipulation.ipynb\" target=\"_parent\"><img src=\"https://colab.research.google.com/assets/colab-badge.svg\" alt=\"Open In Colab\"/></a>"
      ]
    },
    {
      "cell_type": "markdown",
      "source": [
        "<h1>2.1 Data Manipulation</h1>"
      ],
      "metadata": {
        "id": "Xfl95xAnx8kv"
      }
    },
    {
      "cell_type": "markdown",
      "source": [
        "<h2>2.1.1 Getting Started</h2>"
      ],
      "metadata": {
        "id": "YFdPY96UyBnE"
      }
    },
    {
      "cell_type": "code",
      "source": [
        "import torch\n",
        "import numpy as np"
      ],
      "metadata": {
        "id": "8KEx4qFVQe-2"
      },
      "execution_count": 54,
      "outputs": []
    },
    {
      "cell_type": "code",
      "source": [
        "x = torch.arange(12, dtype=torch.float32)\n",
        "x"
      ],
      "metadata": {
        "colab": {
          "base_uri": "https://localhost:8080/"
        },
        "id": "Qop5Tu3zvX2u",
        "outputId": "2debafdf-2620-4f14-acb0-035c44bfe2c6"
      },
      "execution_count": 3,
      "outputs": [
        {
          "output_type": "execute_result",
          "data": {
            "text/plain": [
              "tensor([ 0.,  1.,  2.,  3.,  4.,  5.,  6.,  7.,  8.,  9., 10., 11.])"
            ]
          },
          "metadata": {},
          "execution_count": 3
        }
      ]
    },
    {
      "cell_type": "code",
      "source": [
        "x.shape"
      ],
      "metadata": {
        "colab": {
          "base_uri": "https://localhost:8080/"
        },
        "id": "V6JRMFbOvqMC",
        "outputId": "f082a64d-fe6b-42ce-a23b-9f2a6e7e6178"
      },
      "execution_count": 4,
      "outputs": [
        {
          "output_type": "execute_result",
          "data": {
            "text/plain": [
              "torch.Size([12])"
            ]
          },
          "metadata": {},
          "execution_count": 4
        }
      ]
    },
    {
      "cell_type": "code",
      "source": [
        "x.numel()"
      ],
      "metadata": {
        "colab": {
          "base_uri": "https://localhost:8080/"
        },
        "id": "djsrxc71vwdm",
        "outputId": "0fde3d07-7691-411c-956f-583f03d46609"
      },
      "execution_count": 6,
      "outputs": [
        {
          "output_type": "execute_result",
          "data": {
            "text/plain": [
              "12"
            ]
          },
          "metadata": {},
          "execution_count": 6
        }
      ]
    },
    {
      "cell_type": "code",
      "source": [
        "X = x.reshape(3,4)\n",
        "X"
      ],
      "metadata": {
        "colab": {
          "base_uri": "https://localhost:8080/"
        },
        "id": "ug4d2f8Dv1gt",
        "outputId": "fcaeaa45-323d-499c-a5a9-a5472844555c"
      },
      "execution_count": 7,
      "outputs": [
        {
          "output_type": "execute_result",
          "data": {
            "text/plain": [
              "tensor([[ 0.,  1.,  2.,  3.],\n",
              "        [ 4.,  5.,  6.,  7.],\n",
              "        [ 8.,  9., 10., 11.]])"
            ]
          },
          "metadata": {},
          "execution_count": 7
        }
      ]
    },
    {
      "cell_type": "markdown",
      "source": [
        "reshape를 자동 계산하게 만들기 위해 한쪽에 -1을 대신 넣을 수도 있다."
      ],
      "metadata": {
        "id": "PNz2KKq8wXqV"
      }
    },
    {
      "cell_type": "code",
      "source": [
        "X = x.reshape(3,-1)\n",
        "X"
      ],
      "metadata": {
        "colab": {
          "base_uri": "https://localhost:8080/"
        },
        "id": "GiQLm6KxwETU",
        "outputId": "5807f74a-724a-43b5-a316-96dce41ebc70"
      },
      "execution_count": 9,
      "outputs": [
        {
          "output_type": "execute_result",
          "data": {
            "text/plain": [
              "tensor([[ 0.,  1.,  2.,  3.],\n",
              "        [ 4.,  5.,  6.,  7.],\n",
              "        [ 8.,  9., 10., 11.]])"
            ]
          },
          "metadata": {},
          "execution_count": 9
        }
      ]
    },
    {
      "cell_type": "code",
      "source": [
        "X = x.reshape(-1,4)\n",
        "X"
      ],
      "metadata": {
        "colab": {
          "base_uri": "https://localhost:8080/"
        },
        "id": "XWrpe0R5wgAF",
        "outputId": "923dbfaf-b02b-484e-bb5e-2b026525e42e"
      },
      "execution_count": 10,
      "outputs": [
        {
          "output_type": "execute_result",
          "data": {
            "text/plain": [
              "tensor([[ 0.,  1.,  2.,  3.],\n",
              "        [ 4.,  5.,  6.,  7.],\n",
              "        [ 8.,  9., 10., 11.]])"
            ]
          },
          "metadata": {},
          "execution_count": 10
        }
      ]
    },
    {
      "cell_type": "markdown",
      "source": [
        "내부에 0이나 1등의 특정한 상수값으로 채우고 싶다면 아래와 같은 함수 사용하자."
      ],
      "metadata": {
        "id": "TMAdU9wrwrBn"
      }
    },
    {
      "cell_type": "code",
      "source": [
        "torch.zeros((2,3,4))"
      ],
      "metadata": {
        "colab": {
          "base_uri": "https://localhost:8080/"
        },
        "id": "Nv-z1jbQwjhp",
        "outputId": "26d81460-36b6-42ae-8948-fdd5268b6523"
      },
      "execution_count": 11,
      "outputs": [
        {
          "output_type": "execute_result",
          "data": {
            "text/plain": [
              "tensor([[[0., 0., 0., 0.],\n",
              "         [0., 0., 0., 0.],\n",
              "         [0., 0., 0., 0.]],\n",
              "\n",
              "        [[0., 0., 0., 0.],\n",
              "         [0., 0., 0., 0.],\n",
              "         [0., 0., 0., 0.]]])"
            ]
          },
          "metadata": {},
          "execution_count": 11
        }
      ]
    },
    {
      "cell_type": "code",
      "source": [
        "torch.ones((2,3,4))"
      ],
      "metadata": {
        "colab": {
          "base_uri": "https://localhost:8080/"
        },
        "id": "DOBpNKcMwzEO",
        "outputId": "91022a00-b314-4096-9f8c-314b48fd12f5"
      },
      "execution_count": 12,
      "outputs": [
        {
          "output_type": "execute_result",
          "data": {
            "text/plain": [
              "tensor([[[1., 1., 1., 1.],\n",
              "         [1., 1., 1., 1.],\n",
              "         [1., 1., 1., 1.]],\n",
              "\n",
              "        [[1., 1., 1., 1.],\n",
              "         [1., 1., 1., 1.],\n",
              "         [1., 1., 1., 1.]]])"
            ]
          },
          "metadata": {},
          "execution_count": 12
        }
      ]
    },
    {
      "cell_type": "markdown",
      "source": [
        "딥러닝을 위해서 텐서 내부에 random 값들을 매핑 시키는 경우도 존재. 아래와 같은 함수 사용시 평균 0, 표준편차 1인 가우시안 분포 내에서 값을 임의로 매핑할 수 있다."
      ],
      "metadata": {
        "id": "CGM9mS_dw06A"
      }
    },
    {
      "cell_type": "code",
      "source": [
        "torch.randn(3,4)"
      ],
      "metadata": {
        "colab": {
          "base_uri": "https://localhost:8080/"
        },
        "id": "3hS1d5KMxUQT",
        "outputId": "99a8cda8-e995-4d0a-a56c-a0f7d28ff72d"
      },
      "execution_count": 15,
      "outputs": [
        {
          "output_type": "execute_result",
          "data": {
            "text/plain": [
              "tensor([[ 0.6724,  0.8864, -0.3769, -0.7732],\n",
              "        [-1.0842, -2.1175,  1.7729, -0.3073],\n",
              "        [-0.5526, -0.5991,  0.5740,  0.2144]])"
            ]
          },
          "metadata": {},
          "execution_count": 15
        }
      ]
    },
    {
      "cell_type": "code",
      "source": [
        "torch.randn(2,3,4)"
      ],
      "metadata": {
        "colab": {
          "base_uri": "https://localhost:8080/"
        },
        "outputId": "036abea3-911b-462c-927c-5d56ce410e23",
        "id": "rANa3ZFuxdfi"
      },
      "execution_count": 19,
      "outputs": [
        {
          "output_type": "execute_result",
          "data": {
            "text/plain": [
              "tensor([[[-1.1778, -0.2496, -1.5300,  0.2939],\n",
              "         [-0.2783, -0.0634, -3.6110, -1.2267],\n",
              "         [-0.8925,  0.7554,  0.3565,  0.4290]],\n",
              "\n",
              "        [[-1.0804,  1.2844,  0.3135,  0.9707],\n",
              "         [-0.3408, -1.4840,  0.2007,  0.0136],\n",
              "         [ 1.0244, -0.0304, -0.3178,  0.7478]]])"
            ]
          },
          "metadata": {},
          "execution_count": 19
        }
      ]
    },
    {
      "cell_type": "markdown",
      "source": [
        "특정값으로 세팅하면서 생성도 가능."
      ],
      "metadata": {
        "id": "cnFWqcysxVls"
      }
    },
    {
      "cell_type": "code",
      "source": [
        "torch.tensor([[1,2,3],[2,3,4],[3,4,5]])"
      ],
      "metadata": {
        "colab": {
          "base_uri": "https://localhost:8080/"
        },
        "id": "_7rdU5hPxvgd",
        "outputId": "0a38e6db-108b-4cb9-c032-f1935d33699e"
      },
      "execution_count": 20,
      "outputs": [
        {
          "output_type": "execute_result",
          "data": {
            "text/plain": [
              "tensor([[1, 2, 3],\n",
              "        [2, 3, 4],\n",
              "        [3, 4, 5]])"
            ]
          },
          "metadata": {},
          "execution_count": 20
        }
      ]
    },
    {
      "cell_type": "markdown",
      "source": [
        "<h2>2.1.2 Operations</h2>"
      ],
      "metadata": {
        "id": "mcwR9cAKx0Wh"
      }
    },
    {
      "cell_type": "code",
      "source": [
        "x = torch.tensor([1.0,2,4,8])\n",
        "y = torch.tensor([2,2,2,2])\n",
        "x+y, x-y, x*y, x/y, x**y\n"
      ],
      "metadata": {
        "colab": {
          "base_uri": "https://localhost:8080/"
        },
        "id": "iEMxxL1WyLh6",
        "outputId": "5228392e-3b7d-4773-97bd-736c2bafc0c3"
      },
      "execution_count": 21,
      "outputs": [
        {
          "output_type": "execute_result",
          "data": {
            "text/plain": [
              "(tensor([ 3.,  4.,  6., 10.]),\n",
              " tensor([-1.,  0.,  2.,  6.]),\n",
              " tensor([ 2.,  4.,  8., 16.]),\n",
              " tensor([0.5000, 1.0000, 2.0000, 4.0000]),\n",
              " tensor([ 1.,  4., 16., 64.]))"
            ]
          },
          "metadata": {},
          "execution_count": 21
        }
      ]
    },
    {
      "cell_type": "code",
      "source": [
        "torch.exp(x)"
      ],
      "metadata": {
        "colab": {
          "base_uri": "https://localhost:8080/"
        },
        "id": "i99lYrRj0Fqw",
        "outputId": "8a87973c-8c91-42a7-a91a-bc5f4c2bf042"
      },
      "execution_count": 22,
      "outputs": [
        {
          "output_type": "execute_result",
          "data": {
            "text/plain": [
              "tensor([2.7183e+00, 7.3891e+00, 5.4598e+01, 2.9810e+03])"
            ]
          },
          "metadata": {},
          "execution_count": 22
        }
      ]
    },
    {
      "cell_type": "markdown",
      "source": [
        "선형대수 연산 또한 가능. dot products, matrix multiplication\n",
        "<br>또한 concatenate multiple tensors 도 가능하다. 어떤 축으로 병합할지 또한 지정 가능.<br>\n",
        "아래의 연산 결과를 확인하면 각각 row단위 병합, column단위 병합인 텐서구조로 concatenated 됨을 확인할 수 있다."
      ],
      "metadata": {
        "id": "i5_qvnkn0RJQ"
      }
    },
    {
      "cell_type": "code",
      "source": [
        "X = torch.arange(12, dtype=torch.float32).reshape((3,4))\n",
        "Y = torch.tensor([[2.0,1,4,3],[1,2,3,4],[4,3,2,1]])\n",
        "X_C = torch.cat((X,Y),dim = 0)\n",
        "Y_C = torch.cat((X,Y),dim=1)\n",
        "X_C, Y_C"
      ],
      "metadata": {
        "colab": {
          "base_uri": "https://localhost:8080/"
        },
        "id": "_YA8Nh5q0s5e",
        "outputId": "8058151b-c40d-48d2-8220-02f3fa6190b9"
      },
      "execution_count": 26,
      "outputs": [
        {
          "output_type": "execute_result",
          "data": {
            "text/plain": [
              "(tensor([[ 0.,  1.,  2.,  3.],\n",
              "         [ 4.,  5.,  6.,  7.],\n",
              "         [ 8.,  9., 10., 11.],\n",
              "         [ 2.,  1.,  4.,  3.],\n",
              "         [ 1.,  2.,  3.,  4.],\n",
              "         [ 4.,  3.,  2.,  1.]]),\n",
              " tensor([[ 0.,  1.,  2.,  3.,  2.,  1.,  4.,  3.],\n",
              "         [ 4.,  5.,  6.,  7.,  1.,  2.,  3.,  4.],\n",
              "         [ 8.,  9., 10., 11.,  4.,  3.,  2.,  1.]]))"
            ]
          },
          "metadata": {},
          "execution_count": 26
        }
      ]
    },
    {
      "cell_type": "code",
      "source": [
        "X_C.shape, Y_C.shape"
      ],
      "metadata": {
        "colab": {
          "base_uri": "https://localhost:8080/"
        },
        "id": "KNhngXTt1B6h",
        "outputId": "ce21a462-68f9-422f-fdb8-04c671d957e4"
      },
      "execution_count": 27,
      "outputs": [
        {
          "output_type": "execute_result",
          "data": {
            "text/plain": [
              "(torch.Size([6, 4]), torch.Size([3, 8]))"
            ]
          },
          "metadata": {},
          "execution_count": 27
        }
      ]
    },
    {
      "cell_type": "markdown",
      "source": [
        "논리 연산자를 통해서, binary tensor또한 만들 수 있다.\n",
        "다만 shape가 일치해야 가능함"
      ],
      "metadata": {
        "id": "zR7_2q8u1lqA"
      }
    },
    {
      "cell_type": "code",
      "source": [
        "X==Y"
      ],
      "metadata": {
        "colab": {
          "base_uri": "https://localhost:8080/"
        },
        "id": "4tuW8HSC1I4y",
        "outputId": "f51f5290-0866-4aa4-f58f-22e147de015f"
      },
      "execution_count": 29,
      "outputs": [
        {
          "output_type": "execute_result",
          "data": {
            "text/plain": [
              "tensor([[False,  True, False,  True],\n",
              "        [False, False, False, False],\n",
              "        [False, False, False, False]])"
            ]
          },
          "metadata": {},
          "execution_count": 29
        }
      ]
    },
    {
      "cell_type": "markdown",
      "source": [
        "X_C == Y_C 는 오류 발생 (Shape가 일치하지 않으므로)"
      ],
      "metadata": {
        "id": "5H7kGfd81kop"
      }
    },
    {
      "cell_type": "code",
      "source": [
        "X.sum()"
      ],
      "metadata": {
        "colab": {
          "base_uri": "https://localhost:8080/"
        },
        "id": "sjzp4K_51un3",
        "outputId": "3cce95af-9999-4085-dd2d-b02fb9b05e04"
      },
      "execution_count": 31,
      "outputs": [
        {
          "output_type": "execute_result",
          "data": {
            "text/plain": [
              "tensor(66.)"
            ]
          },
          "metadata": {},
          "execution_count": 31
        }
      ]
    },
    {
      "cell_type": "markdown",
      "source": [
        "sum 함수로 tensor 내의 모든 elements들의 합을 구할 수 있다."
      ],
      "metadata": {
        "id": "WlAvpVud14ie"
      }
    },
    {
      "cell_type": "markdown",
      "source": [
        "<h2>2.1.3 Broadcasting Mechanism</h2>"
      ],
      "metadata": {
        "id": "phc2oYh-18rP"
      }
    },
    {
      "cell_type": "markdown",
      "source": [
        "지금까지는 같은 shape일 때의 요소단위 operation을 진행했다면, boradcasting mechanism을 사용해서 그렇지 않은 경우에도 연산 작업을 추진할 수 있다. "
      ],
      "metadata": {
        "id": "u3F5xY-a2BTm"
      }
    },
    {
      "cell_type": "markdown",
      "source": [
        "![image.png](data:image/png;base64,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)"
      ],
      "metadata": {
        "id": "BNsss8zU3DZV"
      }
    },
    {
      "cell_type": "code",
      "source": [
        "a = torch.arange(3).reshape((3,1))\n",
        "b = torch.arange(2).reshape((1,2))\n",
        "a, b\n"
      ],
      "metadata": {
        "colab": {
          "base_uri": "https://localhost:8080/"
        },
        "id": "4ayCOD9V3F1h",
        "outputId": "bf5874a9-2aa1-4243-92df-a701d2ea0b28"
      },
      "execution_count": 33,
      "outputs": [
        {
          "output_type": "execute_result",
          "data": {
            "text/plain": [
              "(tensor([[0],\n",
              "         [1],\n",
              "         [2]]), tensor([[0, 1]]))"
            ]
          },
          "metadata": {},
          "execution_count": 33
        }
      ]
    },
    {
      "cell_type": "markdown",
      "source": [
        "위의 각 텐서구조는 3,1 그리고 1,2 의 shape이므로 연산이 안 될 것 같지만, 각각의 값을 위의 이미지처럼 stretch 즉 복사해 부족한 행 혹은 열에 붙여넣기 한 뒤 연산을 수행한다."
      ],
      "metadata": {
        "id": "hH_bLiwA3Usn"
      }
    },
    {
      "cell_type": "code",
      "source": [
        "a+b"
      ],
      "metadata": {
        "colab": {
          "base_uri": "https://localhost:8080/"
        },
        "id": "yCQE-xxq3Oxn",
        "outputId": "d5bfbe40-3d82-4175-dcee-d33c67076994"
      },
      "execution_count": 34,
      "outputs": [
        {
          "output_type": "execute_result",
          "data": {
            "text/plain": [
              "tensor([[0, 1],\n",
              "        [1, 2],\n",
              "        [2, 3]])"
            ]
          },
          "metadata": {},
          "execution_count": 34
        }
      ]
    },
    {
      "cell_type": "markdown",
      "source": [
        "<h2>Indexing and Slicing</h2>"
      ],
      "metadata": {
        "id": "K5wExqlA3lVr"
      }
    },
    {
      "cell_type": "markdown",
      "source": [
        "Python의 array처럼 인덱싱 그리고 슬라이싱이 가능하다."
      ],
      "metadata": {
        "id": "wX76D1V03qVW"
      }
    },
    {
      "cell_type": "code",
      "source": [
        "X"
      ],
      "metadata": {
        "colab": {
          "base_uri": "https://localhost:8080/"
        },
        "id": "TATJhmT8337k",
        "outputId": "c8f2d099-3010-4a31-b823-28268c373b40"
      },
      "execution_count": 35,
      "outputs": [
        {
          "output_type": "execute_result",
          "data": {
            "text/plain": [
              "tensor([[ 0.,  1.,  2.,  3.],\n",
              "        [ 4.,  5.,  6.,  7.],\n",
              "        [ 8.,  9., 10., 11.]])"
            ]
          },
          "metadata": {},
          "execution_count": 35
        }
      ]
    },
    {
      "cell_type": "code",
      "source": [
        "X[-1]"
      ],
      "metadata": {
        "colab": {
          "base_uri": "https://localhost:8080/"
        },
        "id": "dB5duXB635Ly",
        "outputId": "fbb42f5e-0094-4ccc-ce43-2c0363d95ca7"
      },
      "execution_count": 36,
      "outputs": [
        {
          "output_type": "execute_result",
          "data": {
            "text/plain": [
              "tensor([ 8.,  9., 10., 11.])"
            ]
          },
          "metadata": {},
          "execution_count": 36
        }
      ]
    },
    {
      "cell_type": "code",
      "source": [
        "X[1:3]#파이썬에서와 같이 0,1,2,3... 순으로 진행됨 이 경우, 1~2 열을 호출"
      ],
      "metadata": {
        "colab": {
          "base_uri": "https://localhost:8080/"
        },
        "id": "yirb_h2w36kx",
        "outputId": "d8af2476-0805-4274-8f49-6b307b213e4a"
      },
      "execution_count": 39,
      "outputs": [
        {
          "output_type": "execute_result",
          "data": {
            "text/plain": [
              "tensor([[ 4.,  5.,  6.,  7.],\n",
              "        [ 8.,  9., 10., 11.]])"
            ]
          },
          "metadata": {},
          "execution_count": 39
        }
      ]
    },
    {
      "cell_type": "markdown",
      "source": [
        "특정 위치를 지정해서 내부 element를 변경하는 것이 가능하다."
      ],
      "metadata": {
        "id": "dSpB-lQK37wI"
      }
    },
    {
      "cell_type": "code",
      "source": [
        "X[1,2] = 9\n",
        "X#1행, 2열의 요소가 9로 변경된 것을 확인할 수 있음(0,1,2... 기준)"
      ],
      "metadata": {
        "colab": {
          "base_uri": "https://localhost:8080/"
        },
        "id": "Lm46e_No4Wv5",
        "outputId": "ddaf32f5-b432-4671-cd26-cc941ffbdfe1"
      },
      "execution_count": 42,
      "outputs": [
        {
          "output_type": "execute_result",
          "data": {
            "text/plain": [
              "tensor([[ 0.,  1.,  2.,  3.],\n",
              "        [ 4.,  5.,  9.,  7.],\n",
              "        [ 8.,  9., 10., 11.]])"
            ]
          },
          "metadata": {},
          "execution_count": 42
        }
      ]
    },
    {
      "cell_type": "markdown",
      "source": [
        "슬라이싱 + 대입 연산자로 한번에 여러 요소를 변경하는 것이 가능하다."
      ],
      "metadata": {
        "id": "pGtMl0Km4bOO"
      }
    },
    {
      "cell_type": "code",
      "source": [
        "X[0:2,:] = 12 #0,1 행, 모든 열의 값을 12로 변환\n",
        "X"
      ],
      "metadata": {
        "colab": {
          "base_uri": "https://localhost:8080/"
        },
        "id": "vAS1XX3U4wYb",
        "outputId": "05271fce-9316-41d7-84f8-09921111c7c0"
      },
      "execution_count": 45,
      "outputs": [
        {
          "output_type": "execute_result",
          "data": {
            "text/plain": [
              "tensor([[12., 12., 12., 12.],\n",
              "        [12., 12., 12., 12.],\n",
              "        [ 8.,  9., 10., 11.]])"
            ]
          },
          "metadata": {},
          "execution_count": 45
        }
      ]
    },
    {
      "cell_type": "markdown",
      "source": [
        "<h2>2.1.5 Saving Memory</h2>"
      ],
      "metadata": {
        "id": "mk6tJap_4zH5"
      }
    },
    {
      "cell_type": "markdown",
      "source": [
        "python의 동적 메모리 할당으로 인해, 특정 변수의 값이 변화하거나, 다른 구조 혹은 특정 연산을 수행할 시에 변수가 참조하고 있는 위치 정보가 변화한다."
      ],
      "metadata": {
        "id": "jColEN0g4_WH"
      }
    },
    {
      "cell_type": "code",
      "source": [
        "before = id(Y)\n",
        "Y = Y+X\n",
        "id(Y)==before"
      ],
      "metadata": {
        "colab": {
          "base_uri": "https://localhost:8080/"
        },
        "id": "GpiN44M75UZp",
        "outputId": "148348f8-467a-4a92-b0b6-a36b18440db9"
      },
      "execution_count": 46,
      "outputs": [
        {
          "output_type": "execute_result",
          "data": {
            "text/plain": [
              "False"
            ]
          },
          "metadata": {},
          "execution_count": 46
        }
      ]
    },
    {
      "cell_type": "code",
      "source": [
        "before, id(Y)#참조하는 위치가 달라짐"
      ],
      "metadata": {
        "colab": {
          "base_uri": "https://localhost:8080/"
        },
        "id": "VSHIKvnE5Zr3",
        "outputId": "d9babf89-e07a-4645-d609-3599ed19bedc"
      },
      "execution_count": 48,
      "outputs": [
        {
          "output_type": "execute_result",
          "data": {
            "text/plain": [
              "(140411235831984, 140411235530608)"
            ]
          },
          "metadata": {},
          "execution_count": 48
        }
      ]
    },
    {
      "cell_type": "markdown",
      "source": [
        "이렇게 연산시 메모리 할당이 달라지는 것으로 인해 메모리 누수가 발생. in-place operation을 하면 좋다."
      ],
      "metadata": {
        "id": "_Yh76cp45cUK"
      }
    },
    {
      "cell_type": "code",
      "source": [
        "Z = torch.zeros_like(Y)\n",
        "print('id(Z):', id(Z))\n",
        "Z[:] = X+Y #inplace operation을 위해 Z[:]사용, 같은 메모리 위치를 참조하면서 연산 결과를 반환할 수 있다.\n",
        "print('id(Z):', id(Z))"
      ],
      "metadata": {
        "colab": {
          "base_uri": "https://localhost:8080/"
        },
        "id": "uOeZbJNb52X-",
        "outputId": "0b75de91-adab-48ed-f0c4-fffc5820bf1d"
      },
      "execution_count": 51,
      "outputs": [
        {
          "output_type": "stream",
          "name": "stdout",
          "text": [
            "id(Z): 140411235641392\n",
            "id(Z): 140411235641392\n"
          ]
        }
      ]
    },
    {
      "cell_type": "markdown",
      "source": [
        "다른 방법으로 X[:] = X + Y나 X+= Y의 연산방법을 사용하면 기존의 할당된 메모리 위치를 유지하면서 연산및 결과 반환을 수행할 수 있다."
      ],
      "metadata": {
        "id": "Y2clpjWS6Agt"
      }
    },
    {
      "cell_type": "code",
      "source": [
        "before = id(X)\n",
        "X += Y\n",
        "id(X) == before, before, id(X)"
      ],
      "metadata": {
        "colab": {
          "base_uri": "https://localhost:8080/"
        },
        "id": "dMcMJUYQ6jJM",
        "outputId": "71126960-a061-40b3-c593-6fd046f3e6ba"
      },
      "execution_count": 53,
      "outputs": [
        {
          "output_type": "execute_result",
          "data": {
            "text/plain": [
              "(True, 140411235832848, 140411235832848)"
            ]
          },
          "metadata": {},
          "execution_count": 53
        }
      ]
    },
    {
      "cell_type": "markdown",
      "source": [
        "<h2>2.1.6 Conversion to Other Python Objects</h2>"
      ],
      "metadata": {
        "id": "eGUxTpEX6rir"
      }
    },
    {
      "cell_type": "markdown",
      "source": [
        "numpy 와 tensor는 같은 메모리 위치를 유지하면서 변환이 가능하다."
      ],
      "metadata": {
        "id": "quSh_oFE62mi"
      }
    },
    {
      "cell_type": "code",
      "source": [
        "A = X.numpy()\n",
        "B = torch.from_numpy(A)\n",
        "type(A), type(B)"
      ],
      "metadata": {
        "colab": {
          "base_uri": "https://localhost:8080/"
        },
        "id": "f4FhNa-P9iux",
        "outputId": "bc941b51-476a-4448-b512-4789009261c6"
      },
      "execution_count": 55,
      "outputs": [
        {
          "output_type": "execute_result",
          "data": {
            "text/plain": [
              "(numpy.ndarray, torch.Tensor)"
            ]
          },
          "metadata": {},
          "execution_count": 55
        }
      ]
    },
    {
      "cell_type": "markdown",
      "source": [
        "사이즈는 1인 tensor의 경우 itme() 메서드나 float, int 등 파이썬 내장 함수로 값을 반환할 수 있다."
      ],
      "metadata": {
        "id": "4xHPr6cu9oWF"
      }
    },
    {
      "cell_type": "code",
      "source": [
        "a = torch.tensor([3.5])\n",
        "a, a.item(), float(a), int(a)"
      ],
      "metadata": {
        "colab": {
          "base_uri": "https://localhost:8080/"
        },
        "id": "Zdy0BLyk96DL",
        "outputId": "1d78cb08-8852-499c-c3de-3d5a96628a6b"
      },
      "execution_count": 56,
      "outputs": [
        {
          "output_type": "execute_result",
          "data": {
            "text/plain": [
              "(tensor([3.5000]), 3.5, 3.5, 3)"
            ]
          },
          "metadata": {},
          "execution_count": 56
        }
      ]
    },
    {
      "cell_type": "markdown",
      "source": [
        "<h3>Exercises</h3>"
      ],
      "metadata": {
        "id": "q_9hKWfp9_Dl"
      }
    },
    {
      "cell_type": "code",
      "source": [
        "X,Y"
      ],
      "metadata": {
        "colab": {
          "base_uri": "https://localhost:8080/"
        },
        "id": "HYvqetX9-K8G",
        "outputId": "e1b1bd02-7685-420b-b915-3a04a0226269"
      },
      "execution_count": 58,
      "outputs": [
        {
          "output_type": "execute_result",
          "data": {
            "text/plain": [
              "(tensor([[40., 38., 44., 42.],\n",
              "         [38., 40., 42., 44.],\n",
              "         [32., 33., 34., 35.]]), tensor([[14., 13., 16., 15.],\n",
              "         [13., 14., 15., 16.],\n",
              "         [12., 12., 12., 12.]]))"
            ]
          },
          "metadata": {},
          "execution_count": 58
        }
      ]
    },
    {
      "cell_type": "code",
      "source": [
        "X>Y"
      ],
      "metadata": {
        "colab": {
          "base_uri": "https://localhost:8080/"
        },
        "id": "-udH9n7z-MVj",
        "outputId": "d1de63ed-823c-4e4c-85a8-dd40f0ae9d10"
      },
      "execution_count": 59,
      "outputs": [
        {
          "output_type": "execute_result",
          "data": {
            "text/plain": [
              "tensor([[True, True, True, True],\n",
              "        [True, True, True, True],\n",
              "        [True, True, True, True]])"
            ]
          },
          "metadata": {},
          "execution_count": 59
        }
      ]
    },
    {
      "cell_type": "code",
      "source": [
        "X<Y"
      ],
      "metadata": {
        "colab": {
          "base_uri": "https://localhost:8080/"
        },
        "id": "Fvab7wzd-ONW",
        "outputId": "4dd60888-e3fc-4714-d77b-a86c03a22a78"
      },
      "execution_count": 60,
      "outputs": [
        {
          "output_type": "execute_result",
          "data": {
            "text/plain": [
              "tensor([[False, False, False, False],\n",
              "        [False, False, False, False],\n",
              "        [False, False, False, False]])"
            ]
          },
          "metadata": {},
          "execution_count": 60
        }
      ]
    },
    {
      "cell_type": "code",
      "source": [
        "a = torch.tensor([[1,2],[2,4]])\n",
        "b = torch.tensor([[1,2]])\n",
        "a+b"
      ],
      "metadata": {
        "colab": {
          "base_uri": "https://localhost:8080/"
        },
        "id": "8Q4X19og-Ppb",
        "outputId": "b91cc7c8-94be-429d-ee0d-4320c7fb6a40"
      },
      "execution_count": 64,
      "outputs": [
        {
          "output_type": "execute_result",
          "data": {
            "text/plain": [
              "tensor([[2, 4],\n",
              "        [3, 6]])"
            ]
          },
          "metadata": {},
          "execution_count": 64
        }
      ]
    },
    {
      "cell_type": "code",
      "source": [
        ""
      ],
      "metadata": {
        "id": "b8wPR1Uj-bkX"
      },
      "execution_count": null,
      "outputs": []
    }
  ]
}